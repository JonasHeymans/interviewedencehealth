{
 "cells": [
  {
   "cell_type": "code",
   "execution_count": 298,
   "metadata": {
    "collapsed": true
   },
   "outputs": [],
   "source": [
    "import pandas as pd\n",
    "import numpy as np\n",
    "from scipy import stats\n",
    "import os"
   ]
  },
  {
   "cell_type": "code",
   "execution_count": 299,
   "outputs": [],
   "source": [
    "\n",
    "def import_files():\n",
    "    gender = pd.read_csv('files/gender.csv')\n",
    "    patients = pd.read_csv('files/patients.csv', infer_datetime_format=True)\n",
    "    medications = pd.read_csv('files/medications.csv')\n",
    "    immunizations = pd.read_csv('files/immunizations.csv')\n",
    "    codes = pd.read_csv('files/codes.csv')\n",
    "    return gender, patients, medications, immunizations, codes\n",
    "\n",
    "def get_full_df():\n",
    "    gender, patients, medications, immunizations, codes = import_files()\n",
    "\n",
    "    person = make_person(patients, gender)\n",
    "    drug_exposure = make_drug_exposure(medications,immunizations, codes)\n",
    "\n",
    "    return pd.merge(person, drug_exposure,left_on=['source', 'Id'], right_on=['source', 'PATIENT'], how='outer')\n",
    "\n",
    "def make_drug_exposure(medications,immunizations, codes ):\n",
    "    medications = to_string(medications)\n",
    "    immunizations = to_string(medications)\n",
    "\n",
    "    medications_inc = pd.merge(medications,codes,left_on='CODE', right_on='source')\n",
    "    immunizations_inc = pd.merge(immunizations,codes,left_on='CODE', right_on='source')\n",
    "    medications_inc.rename(columns={\"DESCRIPTION\": \"DESCRIPTION_MEDS\",\n",
    "                                    'BASE_COST':\"BASE_COST_MEDS\",\n",
    "                                    'TOTALCOST':'TOTALCOST_Meds'}, inplace=True)\n",
    "    immunizations_inc.rename(columns={\"DESCRIPTION\": \"DESCRIPTION_IMMU\",\n",
    "                                      'BASE_COST':\"BASE_COST_IMMU\",\n",
    "                                      'TOTALCOST':'TOTALCOST_IMMU'\n",
    "                                      }, inplace=True)\n",
    "    drug_exposure = pd.merge(medications_inc, immunizations_inc, on=['PATIENT', 'ENCOUNTER', 'CODE', 'source', 'domain', 'target'], how='outer')\n",
    "    return drug_exposure\n",
    "\n",
    "def to_string(df):\n",
    "   df['CODE'] = df['CODE'].astype(str)\n",
    "   return df\n",
    "\n",
    "# Making 'person'\n",
    "def make_person(patients, gender):\n",
    "    person = patients.merge(gender, left_on='GENDER', right_on='source')\n",
    "    person.rename(columns={\"target\": \"gender_code\"} , inplace=True)\n",
    "    return person\n",
    "\n",
    "def fill_missing(df):\n",
    "    df.fillna(-1, inplace=True)\n",
    "    return df\n",
    "\n",
    "def cols_toupper(df):\n",
    "    return df.rename(str.upper, axis='columns')\n",
    "\n",
    "def convert_dt(df):\n",
    "    df[['START', 'STOP', 'BIRTHDATE', 'DEATHDATE']] = pd.to_datetime(df[['START', 'STOP', 'BIRTHDATE', 'DEATHDATE']]).date\n",
    "    return df.rename(str.upper, axis='columns')\n",
    "\n",
    "# Probably still have to do EDA to select the columns instead of just doing it for all cols\n",
    "def filter_outliers(df):\n",
    "    return df[(np.abs(stats.zscore(df[0])) < 3)]\n",
    "\n",
    "def clean_data(df):\n",
    "    df = cols_toupper(df)\n",
    "\n",
    "    df = fill_missing(df)\n",
    "\n",
    "    df = convert_dt(df)\n",
    "\n",
    "    df = filter_outliers(df)\n",
    "\n",
    "    return df\n",
    "\n",
    "def do_eda():\n",
    "    full_df = get_full_df()\n",
    "    output = clean_data(full_df)\n",
    "    return output\n"
   ],
   "metadata": {
    "collapsed": false,
    "pycharm": {
     "name": "#%%\n"
    }
   }
  },
  {
   "cell_type": "markdown",
   "source": [
    "# Some basic EDA\n",
    "print(gender.head())\n",
    "print(patients.head())\n",
    "print(medications.head())\n",
    "print(immunizations.head())\n",
    "print(codes.head())\n",
    "\n",
    "print(gender.describe())\n",
    "print(patients.describe())\n",
    "print(medications.describe())\n",
    "print(immunizations.describe())\n",
    "print(codes.describe())\n",
    "\n",
    "print(gender.info())\n",
    "print(patients.info())\n",
    "print(medications.info())\n",
    "print(immunizations.info())\n",
    "print(codes.info())"
   ],
   "metadata": {
    "collapsed": false,
    "pycharm": {
     "name": "#%% md\n"
    }
   }
  },
  {
   "cell_type": "code",
   "execution_count": 300,
   "outputs": [
    {
     "data": {
      "text/plain": "Id                     583\nBIRTHDATE              583\nDEATHDATE              608\nSSN                    583\nDRIVERS                586\nPASSPORT               587\nPREFIX                 586\nFIRST                  583\nLAST                   583\nSUFFIX                 608\nMAIDEN                 606\nMARITAL                589\nRACE                   583\nETHNICITY              583\nGENDER                 583\nBIRTHPLACE             583\nADDRESS                583\nCITY                   583\nSTATE                  583\nCOUNTY                 583\nZIP                    593\nLAT                    583\nLON                    583\nHEALTHCARE_EXPENSES    583\nHEALTHCARE_COVERAGE    583\nsource                   0\ngender_code            583\nSTART_x                 25\nSTOP_x                  60\nPATIENT                 25\nPAYER_x                 25\nENCOUNTER               25\nCODE                    25\nDESCRIPTION_MEDS        25\nBASE_COST_MEDS          25\nPAYER_COVERAGE_x        25\nDISPENSES_x             25\nTOTALCOST_Meds          25\nREASONCODE_x           102\nREASONDESCRIPTION_x    102\ntarget                  25\ndomain                  25\nSTART_y                 25\nSTOP_y                  60\nPAYER_y                 25\nDESCRIPTION_IMMU        25\nBASE_COST_IMMU          25\nPAYER_COVERAGE_y        25\nDISPENSES_y             25\nTOTALCOST_IMMU          25\nREASONCODE_y           102\nREASONDESCRIPTION_y    102\ndtype: int64"
     },
     "execution_count": 300,
     "metadata": {},
     "output_type": "execute_result"
    }
   ],
   "source": [
    "full_df = get_full_df()\n",
    "full_df.isna().sum()\n"
   ],
   "metadata": {
    "collapsed": false,
    "pycharm": {
     "name": "#%%\n"
    }
   }
  },
  {
   "cell_type": "code",
   "execution_count": 300,
   "outputs": [],
   "source": [],
   "metadata": {
    "collapsed": false,
    "pycharm": {
     "name": "#%%\n"
    }
   }
  },
  {
   "cell_type": "code",
   "execution_count": 301,
   "outputs": [
    {
     "ename": "KeyError",
     "evalue": "\"['START', 'STOP'] not in index\"",
     "output_type": "error",
     "traceback": [
      "\u001B[0;31m---------------------------------------------------------------------------\u001B[0m",
      "\u001B[0;31mKeyError\u001B[0m                                  Traceback (most recent call last)",
      "\u001B[0;32m/var/folders/66/55_319sn5_19yl70nnv37zpr0000gn/T/ipykernel_11313/4264843068.py\u001B[0m in \u001B[0;36m<module>\u001B[0;34m\u001B[0m\n\u001B[1;32m      1\u001B[0m \u001B[0;32mif\u001B[0m \u001B[0m__name__\u001B[0m \u001B[0;34m==\u001B[0m \u001B[0;34m'__main__'\u001B[0m\u001B[0;34m:\u001B[0m\u001B[0;34m\u001B[0m\u001B[0;34m\u001B[0m\u001B[0m\n\u001B[0;32m----> 2\u001B[0;31m     \u001B[0mprint\u001B[0m\u001B[0;34m(\u001B[0m\u001B[0mdo_eda\u001B[0m\u001B[0;34m(\u001B[0m\u001B[0;34m)\u001B[0m\u001B[0;34m)\u001B[0m\u001B[0;34m\u001B[0m\u001B[0;34m\u001B[0m\u001B[0m\n\u001B[0m",
      "\u001B[0;32m/var/folders/66/55_319sn5_19yl70nnv37zpr0000gn/T/ipykernel_11313/2243176901.py\u001B[0m in \u001B[0;36mdo_eda\u001B[0;34m()\u001B[0m\n\u001B[1;32m     69\u001B[0m \u001B[0;32mdef\u001B[0m \u001B[0mdo_eda\u001B[0m\u001B[0;34m(\u001B[0m\u001B[0;34m)\u001B[0m\u001B[0;34m:\u001B[0m\u001B[0;34m\u001B[0m\u001B[0;34m\u001B[0m\u001B[0m\n\u001B[1;32m     70\u001B[0m     \u001B[0mfull_df\u001B[0m \u001B[0;34m=\u001B[0m \u001B[0mget_full_df\u001B[0m\u001B[0;34m(\u001B[0m\u001B[0;34m)\u001B[0m\u001B[0;34m\u001B[0m\u001B[0;34m\u001B[0m\u001B[0m\n\u001B[0;32m---> 71\u001B[0;31m     \u001B[0moutput\u001B[0m \u001B[0;34m=\u001B[0m \u001B[0mclean_data\u001B[0m\u001B[0;34m(\u001B[0m\u001B[0mfull_df\u001B[0m\u001B[0;34m)\u001B[0m\u001B[0;34m\u001B[0m\u001B[0;34m\u001B[0m\u001B[0m\n\u001B[0m\u001B[1;32m     72\u001B[0m     \u001B[0;32mreturn\u001B[0m \u001B[0moutput\u001B[0m\u001B[0;34m\u001B[0m\u001B[0;34m\u001B[0m\u001B[0m\n\u001B[1;32m     73\u001B[0m \u001B[0;34m\u001B[0m\u001B[0m\n",
      "\u001B[0;32m/var/folders/66/55_319sn5_19yl70nnv37zpr0000gn/T/ipykernel_11313/2243176901.py\u001B[0m in \u001B[0;36mclean_data\u001B[0;34m(df)\u001B[0m\n\u001B[1;32m     61\u001B[0m     \u001B[0mdf\u001B[0m \u001B[0;34m=\u001B[0m \u001B[0mfill_missing\u001B[0m\u001B[0;34m(\u001B[0m\u001B[0mdf\u001B[0m\u001B[0;34m)\u001B[0m\u001B[0;34m\u001B[0m\u001B[0;34m\u001B[0m\u001B[0m\n\u001B[1;32m     62\u001B[0m \u001B[0;34m\u001B[0m\u001B[0m\n\u001B[0;32m---> 63\u001B[0;31m     \u001B[0mdf\u001B[0m \u001B[0;34m=\u001B[0m \u001B[0mconvert_dt\u001B[0m\u001B[0;34m(\u001B[0m\u001B[0mdf\u001B[0m\u001B[0;34m)\u001B[0m\u001B[0;34m\u001B[0m\u001B[0;34m\u001B[0m\u001B[0m\n\u001B[0m\u001B[1;32m     64\u001B[0m \u001B[0;34m\u001B[0m\u001B[0m\n\u001B[1;32m     65\u001B[0m     \u001B[0mdf\u001B[0m \u001B[0;34m=\u001B[0m \u001B[0mfilter_outliers\u001B[0m\u001B[0;34m(\u001B[0m\u001B[0mdf\u001B[0m\u001B[0;34m)\u001B[0m\u001B[0;34m\u001B[0m\u001B[0;34m\u001B[0m\u001B[0m\n",
      "\u001B[0;32m/var/folders/66/55_319sn5_19yl70nnv37zpr0000gn/T/ipykernel_11313/2243176901.py\u001B[0m in \u001B[0;36mconvert_dt\u001B[0;34m(df)\u001B[0m\n\u001B[1;32m     49\u001B[0m \u001B[0;34m\u001B[0m\u001B[0m\n\u001B[1;32m     50\u001B[0m \u001B[0;32mdef\u001B[0m \u001B[0mconvert_dt\u001B[0m\u001B[0;34m(\u001B[0m\u001B[0mdf\u001B[0m\u001B[0;34m)\u001B[0m\u001B[0;34m:\u001B[0m\u001B[0;34m\u001B[0m\u001B[0;34m\u001B[0m\u001B[0m\n\u001B[0;32m---> 51\u001B[0;31m     \u001B[0mdf\u001B[0m\u001B[0;34m[\u001B[0m\u001B[0;34m[\u001B[0m\u001B[0;34m'START'\u001B[0m\u001B[0;34m,\u001B[0m \u001B[0;34m'STOP'\u001B[0m\u001B[0;34m,\u001B[0m \u001B[0;34m'BIRTHDATE'\u001B[0m\u001B[0;34m,\u001B[0m \u001B[0;34m'DEATHDATE'\u001B[0m\u001B[0;34m]\u001B[0m\u001B[0;34m]\u001B[0m \u001B[0;34m=\u001B[0m \u001B[0mpd\u001B[0m\u001B[0;34m.\u001B[0m\u001B[0mto_datetime\u001B[0m\u001B[0;34m(\u001B[0m\u001B[0mdf\u001B[0m\u001B[0;34m[\u001B[0m\u001B[0;34m[\u001B[0m\u001B[0;34m'START'\u001B[0m\u001B[0;34m,\u001B[0m \u001B[0;34m'STOP'\u001B[0m\u001B[0;34m,\u001B[0m \u001B[0;34m'BIRTHDATE'\u001B[0m\u001B[0;34m,\u001B[0m \u001B[0;34m'DEATHDATE'\u001B[0m\u001B[0;34m]\u001B[0m\u001B[0;34m]\u001B[0m\u001B[0;34m)\u001B[0m\u001B[0;34m.\u001B[0m\u001B[0mdate\u001B[0m\u001B[0;34m\u001B[0m\u001B[0;34m\u001B[0m\u001B[0m\n\u001B[0m\u001B[1;32m     52\u001B[0m     \u001B[0;32mreturn\u001B[0m \u001B[0mdf\u001B[0m\u001B[0;34m.\u001B[0m\u001B[0mrename\u001B[0m\u001B[0;34m(\u001B[0m\u001B[0mstr\u001B[0m\u001B[0;34m.\u001B[0m\u001B[0mupper\u001B[0m\u001B[0;34m,\u001B[0m \u001B[0maxis\u001B[0m\u001B[0;34m=\u001B[0m\u001B[0;34m'columns'\u001B[0m\u001B[0;34m)\u001B[0m\u001B[0;34m\u001B[0m\u001B[0;34m\u001B[0m\u001B[0m\n\u001B[1;32m     53\u001B[0m \u001B[0;34m\u001B[0m\u001B[0m\n",
      "\u001B[0;32m~/miniconda3/envs/interviewedencehealth/lib/python3.9/site-packages/pandas/core/frame.py\u001B[0m in \u001B[0;36m__getitem__\u001B[0;34m(self, key)\u001B[0m\n\u001B[1;32m   3459\u001B[0m             \u001B[0;32mif\u001B[0m \u001B[0mis_iterator\u001B[0m\u001B[0;34m(\u001B[0m\u001B[0mkey\u001B[0m\u001B[0;34m)\u001B[0m\u001B[0;34m:\u001B[0m\u001B[0;34m\u001B[0m\u001B[0;34m\u001B[0m\u001B[0m\n\u001B[1;32m   3460\u001B[0m                 \u001B[0mkey\u001B[0m \u001B[0;34m=\u001B[0m \u001B[0mlist\u001B[0m\u001B[0;34m(\u001B[0m\u001B[0mkey\u001B[0m\u001B[0;34m)\u001B[0m\u001B[0;34m\u001B[0m\u001B[0;34m\u001B[0m\u001B[0m\n\u001B[0;32m-> 3461\u001B[0;31m             \u001B[0mindexer\u001B[0m \u001B[0;34m=\u001B[0m \u001B[0mself\u001B[0m\u001B[0;34m.\u001B[0m\u001B[0mloc\u001B[0m\u001B[0;34m.\u001B[0m\u001B[0m_get_listlike_indexer\u001B[0m\u001B[0;34m(\u001B[0m\u001B[0mkey\u001B[0m\u001B[0;34m,\u001B[0m \u001B[0maxis\u001B[0m\u001B[0;34m=\u001B[0m\u001B[0;36m1\u001B[0m\u001B[0;34m)\u001B[0m\u001B[0;34m[\u001B[0m\u001B[0;36m1\u001B[0m\u001B[0;34m]\u001B[0m\u001B[0;34m\u001B[0m\u001B[0;34m\u001B[0m\u001B[0m\n\u001B[0m\u001B[1;32m   3462\u001B[0m \u001B[0;34m\u001B[0m\u001B[0m\n\u001B[1;32m   3463\u001B[0m         \u001B[0;31m# take() does not accept boolean indexers\u001B[0m\u001B[0;34m\u001B[0m\u001B[0;34m\u001B[0m\u001B[0;34m\u001B[0m\u001B[0m\n",
      "\u001B[0;32m~/miniconda3/envs/interviewedencehealth/lib/python3.9/site-packages/pandas/core/indexing.py\u001B[0m in \u001B[0;36m_get_listlike_indexer\u001B[0;34m(self, key, axis)\u001B[0m\n\u001B[1;32m   1312\u001B[0m             \u001B[0mkeyarr\u001B[0m\u001B[0;34m,\u001B[0m \u001B[0mindexer\u001B[0m\u001B[0;34m,\u001B[0m \u001B[0mnew_indexer\u001B[0m \u001B[0;34m=\u001B[0m \u001B[0max\u001B[0m\u001B[0;34m.\u001B[0m\u001B[0m_reindex_non_unique\u001B[0m\u001B[0;34m(\u001B[0m\u001B[0mkeyarr\u001B[0m\u001B[0;34m)\u001B[0m\u001B[0;34m\u001B[0m\u001B[0;34m\u001B[0m\u001B[0m\n\u001B[1;32m   1313\u001B[0m \u001B[0;34m\u001B[0m\u001B[0m\n\u001B[0;32m-> 1314\u001B[0;31m         \u001B[0mself\u001B[0m\u001B[0;34m.\u001B[0m\u001B[0m_validate_read_indexer\u001B[0m\u001B[0;34m(\u001B[0m\u001B[0mkeyarr\u001B[0m\u001B[0;34m,\u001B[0m \u001B[0mindexer\u001B[0m\u001B[0;34m,\u001B[0m \u001B[0maxis\u001B[0m\u001B[0;34m)\u001B[0m\u001B[0;34m\u001B[0m\u001B[0;34m\u001B[0m\u001B[0m\n\u001B[0m\u001B[1;32m   1315\u001B[0m \u001B[0;34m\u001B[0m\u001B[0m\n\u001B[1;32m   1316\u001B[0m         if needs_i8_conversion(ax.dtype) or isinstance(\n",
      "\u001B[0;32m~/miniconda3/envs/interviewedencehealth/lib/python3.9/site-packages/pandas/core/indexing.py\u001B[0m in \u001B[0;36m_validate_read_indexer\u001B[0;34m(self, key, indexer, axis)\u001B[0m\n\u001B[1;32m   1375\u001B[0m \u001B[0;34m\u001B[0m\u001B[0m\n\u001B[1;32m   1376\u001B[0m             \u001B[0mnot_found\u001B[0m \u001B[0;34m=\u001B[0m \u001B[0mlist\u001B[0m\u001B[0;34m(\u001B[0m\u001B[0mensure_index\u001B[0m\u001B[0;34m(\u001B[0m\u001B[0mkey\u001B[0m\u001B[0;34m)\u001B[0m\u001B[0;34m[\u001B[0m\u001B[0mmissing_mask\u001B[0m\u001B[0;34m.\u001B[0m\u001B[0mnonzero\u001B[0m\u001B[0;34m(\u001B[0m\u001B[0;34m)\u001B[0m\u001B[0;34m[\u001B[0m\u001B[0;36m0\u001B[0m\u001B[0;34m]\u001B[0m\u001B[0;34m]\u001B[0m\u001B[0;34m.\u001B[0m\u001B[0munique\u001B[0m\u001B[0;34m(\u001B[0m\u001B[0;34m)\u001B[0m\u001B[0;34m)\u001B[0m\u001B[0;34m\u001B[0m\u001B[0;34m\u001B[0m\u001B[0m\n\u001B[0;32m-> 1377\u001B[0;31m             \u001B[0;32mraise\u001B[0m \u001B[0mKeyError\u001B[0m\u001B[0;34m(\u001B[0m\u001B[0;34mf\"{not_found} not in index\"\u001B[0m\u001B[0;34m)\u001B[0m\u001B[0;34m\u001B[0m\u001B[0;34m\u001B[0m\u001B[0m\n\u001B[0m\u001B[1;32m   1378\u001B[0m \u001B[0;34m\u001B[0m\u001B[0m\n\u001B[1;32m   1379\u001B[0m \u001B[0;34m\u001B[0m\u001B[0m\n",
      "\u001B[0;31mKeyError\u001B[0m: \"['START', 'STOP'] not in index\""
     ]
    }
   ],
   "source": [
    "if __name__ == '__main__':\n",
    "    print(do_eda())"
   ],
   "metadata": {
    "collapsed": false,
    "pycharm": {
     "name": "#%%\n"
    }
   }
  }
 ],
 "metadata": {
  "kernelspec": {
   "name": "pycharm-c40736cf",
   "language": "python",
   "display_name": "PyCharm (interviewedencehealth)"
  },
  "language_info": {
   "codemirror_mode": {
    "name": "ipython",
    "version": 2
   },
   "file_extension": ".py",
   "mimetype": "text/x-python",
   "name": "python",
   "nbconvert_exporter": "python",
   "pygments_lexer": "ipython2",
   "version": "2.7.6"
  }
 },
 "nbformat": 4,
 "nbformat_minor": 0
}